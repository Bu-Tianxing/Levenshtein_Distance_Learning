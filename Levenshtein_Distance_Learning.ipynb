{
 "cells": [
  {
   "cell_type": "code",
   "execution_count": 1,
   "id": "048c299f",
   "metadata": {},
   "outputs": [],
   "source": [
    "# 递归法实现\n",
    "def Levenshtein_Distance_Normal(a,b):\n",
    "        l1,l2 = len(a),len(b)\n",
    "    if min(l1,l2) == 0:\n",
    "        return max(l1,l2)\n",
    "    elif a[0] == b[0]:\n",
    "        return Levenshtein_Distance(a[1:],b[1:])\n",
    "    else:\n",
    "        return 1 + min(Levenshtein_Distance(a[1:],b),Levenshtein_Distance(a,b[1:]),Levenshtein_Distance(a[1:],b[1:]))"
   ]
  },
  {
   "cell_type": "code",
   "execution_count": 3,
   "id": "29cddd00",
   "metadata": {},
   "outputs": [],
   "source": [
    "# 动态规划实现\n",
    "def Levenshtein_Distance_Dynamic(str1, str2):\n",
    "  len_str1 = len(str1) + 1\n",
    "  len_str2 = len(str2) + 1\n",
    "  # 创建矩阵\n",
    "  matrix = [0 for n in range(len_str1 * len_str2)]\n",
    "  #矩阵的第一行\n",
    "  for i in range(len_str1):\n",
    "    matrix[i] = i\n",
    "  # 矩阵的第一列\n",
    "  for j in range(0, len(matrix), len_str1):\n",
    "    if j % len_str1 == 0:\n",
    "      matrix[j] = j // len_str1\n",
    "  # 根据状态转移方程逐步得到编辑距离\n",
    "  for i in range(1, len_str1):\n",
    "    for j in range(1, len_str2):\n",
    "      if str1[i-1] == str2[j-1]:\n",
    "        cost = 0\n",
    "      else:\n",
    "        cost = 1\n",
    "      matrix[j*len_str1+i] = min(matrix[(j-1)*len_str1+i]+1,\n",
    "                    matrix[j*len_str1+(i-1)]+1,\n",
    "                    matrix[(j-1)*len_str1+(i-1)] + cost)\n",
    "    # 返回矩阵的最后一个值，也就是我们需要的编辑距离\n",
    "    return matrix[-1]"
   ]
  },
  {
   "cell_type": "code",
   "execution_count": 4,
   "id": "d1f02038",
   "metadata": {},
   "outputs": [
    {
     "name": "stdout",
     "output_type": "stream",
     "text": [
      "3\n"
     ]
    }
   ],
   "source": [
    "# 调库实现（需要先pip install Levenshtein）\n",
    "\n",
    "import Levenshtein\n",
    "print(Levenshtein.distance('kitten', 'sitting'))"
   ]
  }
 ],
 "metadata": {
  "kernelspec": {
   "display_name": "Python 3 (ipykernel)",
   "language": "python",
   "name": "python3"
  },
  "language_info": {
   "codemirror_mode": {
    "name": "ipython",
    "version": 3
   },
   "file_extension": ".py",
   "mimetype": "text/x-python",
   "name": "python",
   "nbconvert_exporter": "python",
   "pygments_lexer": "ipython3",
   "version": "3.9.0"
  }
 },
 "nbformat": 4,
 "nbformat_minor": 5
}
